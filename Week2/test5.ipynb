{
  "nbformat": 4,
  "nbformat_minor": 0,
  "metadata": {
    "colab": {
      "provenance": []
    },
    "kernelspec": {
      "name": "python3",
      "display_name": "Python 3"
    },
    "language_info": {
      "name": "python"
    }
  },
  "cells": [
    {
      "cell_type": "code",
      "execution_count": 1,
      "metadata": {
        "colab": {
          "base_uri": "https://localhost:8080/"
        },
        "id": "7IWXZrP7WtXv",
        "outputId": "26da0294-5708-4c2d-a65f-aba9bd05e24b"
      },
      "outputs": [
        {
          "output_type": "stream",
          "name": "stdout",
          "text": [
            "=== Test Performance ===\n",
            "Decision Tree   | MSE: 0.4818 | R²: 0.6323\n",
            "Random Forest   | MSE: 0.2400 | R²: 0.8168\n",
            "Linear Regression | MSE: 0.5547 | R²: 0.5767\n"
          ]
        }
      ],
      "source": [
        "import pandas as pd\n",
        "from sklearn.model_selection import train_test_split\n",
        "from sklearn.tree import DecisionTreeRegressor\n",
        "from sklearn.ensemble import RandomForestRegressor\n",
        "from sklearn.linear_model import LinearRegression\n",
        "from sklearn.metrics import mean_squared_error, r2_score\n",
        "\n",
        "# -----------------------------\n",
        "# 1) 데이터 준비\n",
        "# -----------------------------\n",
        "# boston.csv 파일 읽기\n",
        "df = pd.read_csv(\"/content/drive/MyDrive/Colab Notebooks/boston.csv\").dropna()\n",
        "\n",
        "# 특징(X)과 타겟(y) 분리\n",
        "# 마지막 열이 집값(label)\n",
        "X = df.drop(columns=[df.columns[-1]])\n",
        "y = df[df.columns[-1]]\n",
        "\n",
        "# 데이터셋 분할 (훈련: 80%, 테스트: 20%)\n",
        "X_train, X_test, y_train, y_test = train_test_split(\n",
        "    X, y, test_size=0.2, random_state=42\n",
        ")\n",
        "\n",
        "# -----------------------------\n",
        "# 2) 모델 구성\n",
        "# -----------------------------\n",
        "dt = DecisionTreeRegressor(random_state=42)\n",
        "rf = RandomForestRegressor(n_estimators=200, random_state=42)\n",
        "lr = LinearRegression()\n",
        "\n",
        "# -----------------------------\n",
        "# 3) 모델 학습\n",
        "# -----------------------------\n",
        "dt.fit(X_train, y_train)\n",
        "rf.fit(X_train, y_train)\n",
        "lr.fit(X_train, y_train)\n",
        "\n",
        "# -----------------------------\n",
        "# 4) 모델 평가\n",
        "# -----------------------------\n",
        "# 예측값 계산\n",
        "dt_pred = dt.predict(X_test)\n",
        "rf_pred = rf.predict(X_test)\n",
        "lr_pred = lr.predict(X_test)\n",
        "\n",
        "# 평가 지표 계산 (MSE와 R²)\n",
        "def evaluate(y_true, y_pred, model_name):\n",
        "    mse = mean_squared_error(y_true, y_pred)\n",
        "    r2 = r2_score(y_true, y_pred)\n",
        "    print(f\"{model_name:15s} | MSE: {mse:.4f} | R²: {r2:.4f}\")\n",
        "\n",
        "print(\"=== Test Performance ===\")\n",
        "evaluate(y_test, dt_pred, \"Decision Tree\")\n",
        "evaluate(y_test, rf_pred, \"Random Forest\")\n",
        "evaluate(y_test, lr_pred, \"Linear Regression\")"
      ]
    },
    {
      "cell_type": "code",
      "source": [],
      "metadata": {
        "id": "RM62m4LSWuBh"
      },
      "execution_count": null,
      "outputs": []
    },
    {
      "cell_type": "code",
      "source": [],
      "metadata": {
        "id": "tf7ztBUoWuQq"
      },
      "execution_count": null,
      "outputs": []
    }
  ]
}