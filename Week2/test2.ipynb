{
  "nbformat": 4,
  "nbformat_minor": 0,
  "metadata": {
    "colab": {
      "provenance": []
    },
    "kernelspec": {
      "name": "python3",
      "display_name": "Python 3"
    },
    "language_info": {
      "name": "python"
    }
  },
  "cells": [
    {
      "cell_type": "code",
      "execution_count": 2,
      "metadata": {
        "id": "9Ru4wpX-EpRE",
        "colab": {
          "base_uri": "https://localhost:8080/"
        },
        "outputId": "d686f953-c130-4504-c869-1dafb8215df4"
      },
      "outputs": [
        {
          "output_type": "stream",
          "name": "stdout",
          "text": [
            "=== Test Accuracy ===\n",
            "Decision Tree : 0.8947\n",
            "Random Forest : 0.9561\n",
            "Logistic Reg. : 0.9561\n"
          ]
        }
      ],
      "source": [
        "import pandas as pd\n",
        "from sklearn.model_selection import train_test_split\n",
        "from sklearn.tree import DecisionTreeClassifier\n",
        "from sklearn.ensemble import RandomForestClassifier\n",
        "from sklearn.linear_model import LogisticRegression\n",
        "from sklearn.metrics import accuracy_score\n",
        "\n",
        "# -----------------------------\n",
        "# 1) 데이터 준비\n",
        "# -----------------------------\n",
        "\n",
        "# 사용할 주요 15개 컬럼 + label\n",
        "cols = [\n",
        "    \"worst area\",\n",
        "    \"worst concave points\",\n",
        "    \"mean concave points\",\n",
        "    \"worst radius\",\n",
        "    \"mean concavity\",\n",
        "    \"worst perimeter\",\n",
        "    \"mean perimeter\",\n",
        "    \"mean radius\",\n",
        "    \"mean area\",\n",
        "    \"worst concavity\",\n",
        "    \"area error\",\n",
        "    \"worst texture\",\n",
        "    \"worst compactness\",\n",
        "    \"radius error\",\n",
        "    \"mean compactness\",\n",
        "    \"label\"\n",
        "]\n",
        "\n",
        "df = pd.read_csv(\"/content/drive/MyDrive/Colab Notebooks/breast_cancer.csv\")\n",
        "\n",
        "# 필요한 컬럼만 추출\n",
        "df = df[cols].dropna()\n",
        "\n",
        "X = df.drop(columns=[\"label\"]) # 입력\n",
        "y = df[\"label\"] # 출력\n",
        "\n",
        "X_train, X_test, y_train, y_test = train_test_split(\n",
        "    X, y, test_size=0.2, stratify=y, random_state=42\n",
        ")\n",
        "\n",
        "# -----------------------------\n",
        "# 2) 모델 구성\n",
        "# -----------------------------\n",
        "\n",
        "dt = DecisionTreeClassifier(random_state=42)\n",
        "rf = RandomForestClassifier(n_estimators=200, random_state=42)\n",
        "lr = LogisticRegression(max_iter=2000)\n",
        "\n",
        "# -----------------------------\n",
        "# 3) 모델 학습\n",
        "# -----------------------------\n",
        "\n",
        "dt.fit(X_train, y_train)\n",
        "rf.fit(X_train, y_train)\n",
        "lr.fit(X_train, y_train)\n",
        "\n",
        "# -----------------------------\n",
        "# 4) 모델 평가\n",
        "# -----------------------------\n",
        "\n",
        "dt_acc = accuracy_score(y_test, dt.predict(X_test))\n",
        "rf_acc = accuracy_score(y_test, rf.predict(X_test))\n",
        "lr_acc = accuracy_score(y_test, lr.predict(X_test))\n",
        "\n",
        "print(\"=== Test Accuracy ===\")\n",
        "print(f\"Decision Tree : {dt_acc:.4f}\")\n",
        "print(f\"Random Forest : {rf_acc:.4f}\")\n",
        "print(f\"Logistic Reg. : {lr_acc:.4f}\")"
      ]
    },
    {
      "cell_type": "code",
      "source": [
        "from google.colab import drive\n",
        "drive.mount('/content/drive')"
      ],
      "metadata": {
        "id": "uwQk1I0HAqpe"
      },
      "execution_count": null,
      "outputs": []
    },
    {
      "cell_type": "code",
      "source": [],
      "metadata": {
        "id": "grPBSosfEt5i"
      },
      "execution_count": null,
      "outputs": []
    },
    {
      "cell_type": "code",
      "source": [],
      "metadata": {
        "id": "RVnsLb8jL7nu"
      },
      "execution_count": null,
      "outputs": []
    }
  ]
}