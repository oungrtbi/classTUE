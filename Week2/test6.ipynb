{
  "nbformat": 4,
  "nbformat_minor": 0,
  "metadata": {
    "colab": {
      "provenance": []
    },
    "kernelspec": {
      "name": "python3",
      "display_name": "Python 3"
    },
    "language_info": {
      "name": "python"
    }
  },
  "cells": [
    {
      "cell_type": "code",
      "execution_count": 6,
      "metadata": {
        "colab": {
          "base_uri": "https://localhost:8080/"
        },
        "id": "QTMvklYbGTmJ",
        "outputId": "af616c71-1623-445a-aa6c-312fab8f0a9e"
      },
      "outputs": [
        {
          "output_type": "stream",
          "name": "stdout",
          "text": [
            "=== Test Performance ===\n",
            "Decision Tree   | MSE: 104.1275 | R²: -0.4648\n",
            "Random Forest   | MSE: 46.7562 | R²: 0.3423\n",
            "Linear Regression | MSE: 52.2406 | R²: 0.2651\n"
          ]
        }
      ],
      "source": [
        "import pandas as pd\n",
        "from sklearn.model_selection import train_test_split\n",
        "from sklearn.tree import DecisionTreeRegressor\n",
        "from sklearn.ensemble import RandomForestRegressor\n",
        "from sklearn.linear_model import LinearRegression\n",
        "from sklearn.metrics import mean_squared_error, r2_score\n",
        "\n",
        "# -----------------------------\n",
        "# 1) 데이터 준비\n",
        "# -----------------------------\n",
        "\n",
        "cols = [\"pregnancies\", \"glucose\", \"bloodPressure\", \"skinThickness\", \"insulin\", \"bmi\",\n",
        "        \"diabetesPedigreeFunction\", \"Age\", \"outcome\"]\n",
        "df = pd.read_csv(\"/content/drive/MyDrive/Colab Notebooks/diabetes.csv\", header=None, names=cols, skiprows=1).dropna()\n",
        "\n",
        "X = df.drop(columns=[\"bmi\", \"outcome\"])\n",
        "y = df[\"bmi\"]\n",
        "\n",
        "X_train, X_test, y_train, y_test = train_test_split(\n",
        "    X, y, test_size=0.2, random_state=42\n",
        ")\n",
        "\n",
        "# -----------------------------\n",
        "# 2) 모델 구성\n",
        "# -----------------------------\n",
        "\n",
        "dt = DecisionTreeRegressor(random_state=42)\n",
        "rf = RandomForestRegressor(n_estimators=200, random_state=42)\n",
        "lr = LinearRegression()\n",
        "\n",
        "# -----------------------------\n",
        "# 3) 모델 학습\n",
        "# -----------------------------\n",
        "\n",
        "dt.fit(X_train, y_train)\n",
        "rf.fit(X_train, y_train)\n",
        "lr.fit(X_train, y_train)\n",
        "\n",
        "# -----------------------------\n",
        "# 4) 모델 평가\n",
        "# -----------------------------\n",
        "# 예측값 계산\n",
        "dt_pred = dt.predict(X_test)\n",
        "rf_pred = rf.predict(X_test)\n",
        "lr_pred = lr.predict(X_test)\n",
        "\n",
        "# 평가 지표 계산 (MSE와 R²)\n",
        "def evaluate(y_true, y_pred, model_name):\n",
        "    mse = mean_squared_error(y_true, y_pred)\n",
        "    r2 = r2_score(y_true, y_pred)\n",
        "    print(f\"{model_name:15s} | MSE: {mse:.4f} | R²: {r2:.4f}\")\n",
        "\n",
        "print(\"=== Test Performance ===\")\n",
        "evaluate(y_test, dt_pred, \"Decision Tree\")\n",
        "evaluate(y_test, rf_pred, \"Random Forest\")\n",
        "evaluate(y_test, lr_pred, \"Linear Regression\")"
      ]
    }
  ]
}