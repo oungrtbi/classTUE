{
  "nbformat": 4,
  "nbformat_minor": 0,
  "metadata": {
    "colab": {
      "provenance": [],
      "gpuType": "T4"
    },
    "kernelspec": {
      "name": "python3",
      "display_name": "Python 3"
    },
    "language_info": {
      "name": "python"
    },
    "accelerator": "GPU"
  },
  "cells": [
    {
      "cell_type": "code",
      "execution_count": 6,
      "metadata": {
        "colab": {
          "base_uri": "https://localhost:8080/"
        },
        "id": "ZmMbvW37ap-4",
        "outputId": "e734133a-48a4-4b4f-bf6b-3e51d5731f85"
      },
      "outputs": [
        {
          "output_type": "stream",
          "name": "stdout",
          "text": [
            "데이터가 없습니다. /content/drive/MyDrive/Colab Notebooks/cifar10_data에 다운로드합니다...\n",
            "✓ 데이터 로드 완료\n",
            "  - 학습 데이터: (50000, 32, 32, 3)\n",
            "  - 테스트 데이터: (10000, 32, 32, 3)\n",
            "\n",
            "선택된 클래스: ['cat', 'dog', 'horse']\n",
            "  - 학습 샘플 수: 15000\n",
            "  - 테스트 샘플 수: 3000\n",
            "\n"
          ]
        },
        {
          "output_type": "stream",
          "name": "stderr",
          "text": [
            "/tmp/ipython-input-3278180244.py:53: DeprecationWarning: Conversion of an array with ndim > 0 to a scalar is deprecated, and will error in future. Ensure you extract a single element from your array before performing this operation. (Deprecated NumPy 1.25.)\n",
            "  y_train = np.array([label_map[int(y)]for y in y_train])\n",
            "/tmp/ipython-input-3278180244.py:54: DeprecationWarning: Conversion of an array with ndim > 0 to a scalar is deprecated, and will error in future. Ensure you extract a single element from your array before performing this operation. (Deprecated NumPy 1.25.)\n",
            "  y_test = np.array([label_map[int(y)]for y in y_test])\n"
          ]
        }
      ],
      "source": [
        "import tensorflow as tf\n",
        "from tensorflow.keras import layers, models\n",
        "import numpy as np\n",
        "import os\n",
        "\n",
        "# ========================================\n",
        "# 경로 설정\n",
        "# ========================================\n",
        "DATA_DIR = '/content/drive/MyDrive/Colab Notebooks/cifar10_data'  # CIFAR-10 데이터를 저장할 경로\n",
        "\n",
        "# 데이터 디렉토리 생성\n",
        "os.makedirs(DATA_DIR, exist_ok=True)\n",
        "\n",
        "# --- CIFAR-10 로드 (자동으로 캐싱) ---\n",
        "# Keras는 기본적으로 ~/.keras/datasets에 저장하지만,\n",
        "# 명시적으로 경로를 지정하려면 아래와 같이 처리\n",
        "cifar10_path = os.path.join(DATA_DIR,'cifar-10-batches-py')\n",
        "\n",
        "if os.path.exists(cifar10_path):\n",
        "    print(f\"✓ 기존 데이터 발견: {cifar10_path}\")\n",
        "    print(\"저장된 데이터를 로드합니다...\")\n",
        "else:\n",
        "    print(f\"데이터가 없습니다. {DATA_DIR}에 다운로드합니다...\")\n",
        "\n",
        "# 데이터 로드 (없으면 자동 다운로드 후 캐싱)\n",
        "(x_train, y_train),(x_test, y_test) = tf.keras.datasets.cifar10.load_data()\n",
        "\n",
        "print(f\"✓ 데이터 로드 완료\")\n",
        "print(f\"  - 학습 데이터: {x_train.shape}\")\n",
        "print(f\"  - 테스트 데이터: {x_test.shape}\\n\")\n",
        "\n",
        "# 클래스 이름 정의\n",
        "class_names = ['airplane','automobile','bird','cat','deer',\n",
        "               'dog','frog','horse','ship','truck']\n",
        "\n",
        "# 사용할 클래스 선택\n",
        "selected_classes = ['cat','dog','horse']\n",
        "selected_idx = [class_names.index(c)for c in selected_classes]\n",
        "\n",
        "# --- 해당 클래스만 필터링 ---\n",
        "train_mask = np.isin(y_train, selected_idx).flatten()\n",
        "test_mask = np.isin(y_test, selected_idx).flatten()\n",
        "\n",
        "x_train, y_train = x_train[train_mask], y_train[train_mask]\n",
        "x_test, y_test = x_test[test_mask], y_test[test_mask]\n",
        "\n",
        "print(f\"선택된 클래스: {selected_classes}\")\n",
        "print(f\"  - 학습 샘플 수: {len(x_train)}\")\n",
        "print(f\"  - 테스트 샘플 수: {len(x_test)}\\n\")\n",
        "\n",
        "# 라벨을 0~2로 다시 매핑\n",
        "label_map = {v: i for i, v in enumerate(selected_idx)}\n",
        "y_train = np.array([label_map[int(y)]for y in y_train])\n",
        "y_test = np.array([label_map[int(y)]for y in y_test])\n",
        "\n",
        "# 정규화\n",
        "x_train, x_test = x_train / 255.0, x_test / 255.0"
      ]
    },
    {
      "cell_type": "code",
      "source": [
        "model = tf.keras.models.Sequential([\n",
        "  tf.keras.layers.Flatten(),\n",
        "  tf.keras.layers.Dense(128, activation=\"relu\"),\n",
        "  tf.keras.layers.Dropout(0.2),\n",
        "  tf.keras.layers.Dense(3, activation=\"softmax\")\n",
        "])\n",
        "\n",
        "model.compile(optimizer=\"adam\", loss=\"sparse_categorical_crossentropy\", metrics=[\"accuracy\"])\n",
        "model.fit(x_train, y_train, epochs=5)\n",
        "model.evaluate(x_test, y_test, verbose=2)"
      ],
      "metadata": {
        "colab": {
          "base_uri": "https://localhost:8080/"
        },
        "id": "xMizH3kCa4x6",
        "outputId": "752336a3-d3cd-4d7e-d40b-b8fd794302ff"
      },
      "execution_count": 7,
      "outputs": [
        {
          "output_type": "stream",
          "name": "stdout",
          "text": [
            "Epoch 1/5\n",
            "\u001b[1m469/469\u001b[0m \u001b[32m━━━━━━━━━━━━━━━━━━━━\u001b[0m\u001b[37m\u001b[0m \u001b[1m4s\u001b[0m 7ms/step - accuracy: 0.4124 - loss: 1.2676\n",
            "Epoch 2/5\n",
            "\u001b[1m469/469\u001b[0m \u001b[32m━━━━━━━━━━━━━━━━━━━━\u001b[0m\u001b[37m\u001b[0m \u001b[1m3s\u001b[0m 6ms/step - accuracy: 0.5065 - loss: 0.9599\n",
            "Epoch 3/5\n",
            "\u001b[1m469/469\u001b[0m \u001b[32m━━━━━━━━━━━━━━━━━━━━\u001b[0m\u001b[37m\u001b[0m \u001b[1m4s\u001b[0m 8ms/step - accuracy: 0.5290 - loss: 0.9338\n",
            "Epoch 4/5\n",
            "\u001b[1m469/469\u001b[0m \u001b[32m━━━━━━━━━━━━━━━━━━━━\u001b[0m\u001b[37m\u001b[0m \u001b[1m4s\u001b[0m 7ms/step - accuracy: 0.5273 - loss: 0.9354\n",
            "Epoch 5/5\n",
            "\u001b[1m469/469\u001b[0m \u001b[32m━━━━━━━━━━━━━━━━━━━━\u001b[0m\u001b[37m\u001b[0m \u001b[1m3s\u001b[0m 6ms/step - accuracy: 0.5263 - loss: 0.9187\n",
            "94/94 - 0s - 4ms/step - accuracy: 0.5460 - loss: 0.8985\n"
          ]
        },
        {
          "output_type": "execute_result",
          "data": {
            "text/plain": [
              "[0.8984531164169312, 0.5460000038146973]"
            ]
          },
          "metadata": {},
          "execution_count": 7
        }
      ]
    },
    {
      "cell_type": "code",
      "source": [
        "X_train_final = x_train.reshape((-1, 32, 32, 3))\n",
        "X_test_final = x_test.reshape((-1, 32, 32, 3))\n",
        "\n",
        "model_with_conv = tf.keras.models.Sequential([\n",
        "    tf.keras.layers.Conv2D(32, (3, 3), padding=\"same\", activation=\"relu\", input_shape=(32, 32, 3)),\n",
        "    tf.keras.layers.MaxPooling2D((2, 2), strides=2),\n",
        "    tf.keras.layers.Conv2D(64, (3, 3), padding=\"same\", activation=\"relu\"),\n",
        "    tf.keras.layers.MaxPooling2D((2, 2), strides=2),\n",
        "    tf.keras.layers.Conv2D(128, (3, 3), padding=\"same\", activation=\"relu\"),\n",
        "    tf.keras.layers.MaxPooling2D((2, 2), strides=2),\n",
        "    tf.keras.layers.Flatten(),\n",
        "    tf.keras.layers.Dense(128, activation=\"relu\"),\n",
        "    layers.Dropout(0.5),\n",
        "    tf.keras.layers.Dense(3, activation=\"softmax\")\n",
        "])\n",
        "\n",
        "model_with_conv.compile(optimizer=\"adam\", loss=\"sparse_categorical_crossentropy\", metrics=[\"accuracy\"])\n",
        "model_with_conv.fit(X_train_final, y_train, epochs=15, validation_data=(x_test, y_test))"
      ],
      "metadata": {
        "colab": {
          "base_uri": "https://localhost:8080/"
        },
        "id": "0H7B2wEEc0Lo",
        "outputId": "671ea1d6-d427-474a-f5e8-399c82d600cf"
      },
      "execution_count": 7,
      "outputs": [
        {
          "output_type": "stream",
          "name": "stderr",
          "text": [
            "/usr/local/lib/python3.12/dist-packages/keras/src/layers/convolutional/base_conv.py:113: UserWarning: Do not pass an `input_shape`/`input_dim` argument to a layer. When using Sequential models, prefer using an `Input(shape)` object as the first layer in the model instead.\n",
            "  super().__init__(activity_regularizer=activity_regularizer, **kwargs)\n"
          ]
        },
        {
          "output_type": "stream",
          "name": "stdout",
          "text": [
            "Epoch 1/15\n",
            "\u001b[1m469/469\u001b[0m \u001b[32m━━━━━━━━━━━━━━━━━━━━\u001b[0m\u001b[37m\u001b[0m \u001b[1m8s\u001b[0m 10ms/step - accuracy: 0.4806 - loss: 0.9892 - val_accuracy: 0.6400 - val_loss: 0.7695\n",
            "Epoch 2/15\n",
            "\u001b[1m469/469\u001b[0m \u001b[32m━━━━━━━━━━━━━━━━━━━━\u001b[0m\u001b[37m\u001b[0m \u001b[1m2s\u001b[0m 5ms/step - accuracy: 0.6551 - loss: 0.7569 - val_accuracy: 0.7073 - val_loss: 0.6546\n",
            "Epoch 3/15\n",
            "\u001b[1m469/469\u001b[0m \u001b[32m━━━━━━━━━━━━━━━━━━━━\u001b[0m\u001b[37m\u001b[0m \u001b[1m2s\u001b[0m 4ms/step - accuracy: 0.7143 - loss: 0.6484 - val_accuracy: 0.7213 - val_loss: 0.6307\n",
            "Epoch 4/15\n",
            "\u001b[1m469/469\u001b[0m \u001b[32m━━━━━━━━━━━━━━━━━━━━\u001b[0m\u001b[37m\u001b[0m \u001b[1m2s\u001b[0m 4ms/step - accuracy: 0.7458 - loss: 0.5835 - val_accuracy: 0.7450 - val_loss: 0.5859\n",
            "Epoch 5/15\n",
            "\u001b[1m469/469\u001b[0m \u001b[32m━━━━━━━━━━━━━━━━━━━━\u001b[0m\u001b[37m\u001b[0m \u001b[1m2s\u001b[0m 4ms/step - accuracy: 0.7713 - loss: 0.5283 - val_accuracy: 0.7497 - val_loss: 0.5658\n",
            "Epoch 6/15\n",
            "\u001b[1m469/469\u001b[0m \u001b[32m━━━━━━━━━━━━━━━━━━━━\u001b[0m\u001b[37m\u001b[0m \u001b[1m2s\u001b[0m 4ms/step - accuracy: 0.7937 - loss: 0.4738 - val_accuracy: 0.7563 - val_loss: 0.5842\n",
            "Epoch 7/15\n",
            "\u001b[1m469/469\u001b[0m \u001b[32m━━━━━━━━━━━━━━━━━━━━\u001b[0m\u001b[37m\u001b[0m \u001b[1m2s\u001b[0m 4ms/step - accuracy: 0.8175 - loss: 0.4340 - val_accuracy: 0.7663 - val_loss: 0.5556\n",
            "Epoch 8/15\n",
            "\u001b[1m469/469\u001b[0m \u001b[32m━━━━━━━━━━━━━━━━━━━━\u001b[0m\u001b[37m\u001b[0m \u001b[1m2s\u001b[0m 5ms/step - accuracy: 0.8432 - loss: 0.3742 - val_accuracy: 0.7590 - val_loss: 0.6276\n",
            "Epoch 9/15\n",
            "\u001b[1m469/469\u001b[0m \u001b[32m━━━━━━━━━━━━━━━━━━━━\u001b[0m\u001b[37m\u001b[0m \u001b[1m2s\u001b[0m 4ms/step - accuracy: 0.8608 - loss: 0.3349 - val_accuracy: 0.7500 - val_loss: 0.6964\n",
            "Epoch 10/15\n",
            "\u001b[1m469/469\u001b[0m \u001b[32m━━━━━━━━━━━━━━━━━━━━\u001b[0m\u001b[37m\u001b[0m \u001b[1m2s\u001b[0m 4ms/step - accuracy: 0.8771 - loss: 0.2980 - val_accuracy: 0.7790 - val_loss: 0.6523\n",
            "Epoch 11/15\n",
            "\u001b[1m469/469\u001b[0m \u001b[32m━━━━━━━━━━━━━━━━━━━━\u001b[0m\u001b[37m\u001b[0m \u001b[1m2s\u001b[0m 4ms/step - accuracy: 0.9046 - loss: 0.2375 - val_accuracy: 0.7527 - val_loss: 0.7115\n",
            "Epoch 12/15\n",
            "\u001b[1m469/469\u001b[0m \u001b[32m━━━━━━━━━━━━━━━━━━━━\u001b[0m\u001b[37m\u001b[0m \u001b[1m2s\u001b[0m 4ms/step - accuracy: 0.9263 - loss: 0.1950 - val_accuracy: 0.7710 - val_loss: 0.7388\n",
            "Epoch 13/15\n",
            "\u001b[1m469/469\u001b[0m \u001b[32m━━━━━━━━━━━━━━━━━━━━\u001b[0m\u001b[37m\u001b[0m \u001b[1m2s\u001b[0m 4ms/step - accuracy: 0.9283 - loss: 0.1783 - val_accuracy: 0.7600 - val_loss: 0.8415\n",
            "Epoch 14/15\n",
            "\u001b[1m469/469\u001b[0m \u001b[32m━━━━━━━━━━━━━━━━━━━━\u001b[0m\u001b[37m\u001b[0m \u001b[1m2s\u001b[0m 5ms/step - accuracy: 0.9345 - loss: 0.1627 - val_accuracy: 0.7590 - val_loss: 0.8811\n",
            "Epoch 15/15\n",
            "\u001b[1m469/469\u001b[0m \u001b[32m━━━━━━━━━━━━━━━━━━━━\u001b[0m\u001b[37m\u001b[0m \u001b[1m2s\u001b[0m 4ms/step - accuracy: 0.9511 - loss: 0.1249 - val_accuracy: 0.7767 - val_loss: 0.9223\n"
          ]
        },
        {
          "output_type": "execute_result",
          "data": {
            "text/plain": [
              "<keras.src.callbacks.history.History at 0x7885cc35b3e0>"
            ]
          },
          "metadata": {},
          "execution_count": 7
        }
      ]
    }
  ]
}