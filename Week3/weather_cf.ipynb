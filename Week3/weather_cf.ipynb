{
  "nbformat": 4,
  "nbformat_minor": 0,
  "metadata": {
    "colab": {
      "provenance": []
    },
    "kernelspec": {
      "name": "python3",
      "display_name": "Python 3"
    },
    "language_info": {
      "name": "python"
    }
  },
  "cells": [
    {
      "cell_type": "code",
      "execution_count": 17,
      "metadata": {
        "id": "3rRYiAPWSb_j",
        "colab": {
          "base_uri": "https://localhost:8080/"
        },
        "outputId": "1743f53e-53f8-465e-92c7-a4e5e004d633"
      },
      "outputs": [
        {
          "output_type": "stream",
          "name": "stdout",
          "text": [
            "=== Test Accuracy ===\n",
            "Decision Tree : 0.8592\n",
            "Random Forest : 0.8451\n",
            "Logistic Reg. : 0.8732\n",
            "KNN : 0.8169\n"
          ]
        }
      ],
      "source": [
        "import pandas as pd\n",
        "import numpy as np\n",
        "from sklearn.model_selection import train_test_split\n",
        "from sklearn.tree import DecisionTreeClassifier\n",
        "from sklearn.ensemble import RandomForestClassifier\n",
        "from sklearn.linear_model import LogisticRegression\n",
        "from sklearn.metrics import accuracy_score\n",
        "from sklearn.preprocessing import LabelEncoder\n",
        "from sklearn import metrics\n",
        "from sklearn.neighbors import KNeighborsClassifier\n",
        "\n",
        "# -----------------------------\n",
        "# 1) 데이터 준비\n",
        "# -----------------------------\n",
        "cols = [\n",
        "    \"Date\", \"MinTemp\", \"MaxTemp\", \"Temp9am\", \"Temp3pm\",\n",
        "    \"Humidity9am\", \"Humidity3pm\",\n",
        "    \"Pressure9am\", \"Pressure3pm\",\n",
        "    \"WindGustSpeed\", \"WindSpeed9am\", \"WindSpeed3pm\",\n",
        "    \"Cloud9am\", \"Cloud3pm\", \"Sunshine\",\n",
        "    \"Rainfall\", \"Evaporation\", \"RainToday\",\n",
        "    \"RainTomorrow\"\n",
        "]\n",
        "df = pd.read_csv(\"/content/drive/MyDrive/Colab Notebooks/weather.csv\", usecols=cols).dropna()\n",
        "\n",
        "le = LabelEncoder()\n",
        "\n",
        "for col in df.columns :\n",
        "  df[col] = le.fit_transform(df[col]);\n",
        "\n",
        "X = df.drop(columns=[\"RainTomorrow\"])\n",
        "y = df[\"RainTomorrow\"]\n",
        "\n",
        "X_train, X_test, y_train, y_test = train_test_split(\n",
        "    X, y, test_size=0.2, random_state=42\n",
        ")\n",
        "\n",
        "# -----------------------------\n",
        "# 2) 모델 구성\n",
        "# -----------------------------\n",
        "dt = DecisionTreeClassifier(random_state=42)\n",
        "rf = RandomForestClassifier(n_estimators=200, random_state=42)\n",
        "lr = LogisticRegression(max_iter=2000)\n",
        "\n",
        "knn = KNeighborsClassifier(n_neighbors=50)\n",
        "\n",
        "# -----------------------------\n",
        "# 3) 모델 학습\n",
        "# -----------------------------\n",
        "dt.fit(X_train, y_train)\n",
        "rf.fit(X_train, y_train)\n",
        "lr.fit(X_train, y_train)\n",
        "\n",
        "knn.fit(X_train, y_train)\n",
        "\n",
        "# -----------------------------\n",
        "# 4) 모델 평가\n",
        "# -----------------------------\n",
        "dt_acc = accuracy_score(y_test, dt.predict(X_test))\n",
        "rf_acc = accuracy_score(y_test, rf.predict(X_test))\n",
        "lr_acc = accuracy_score(y_test, lr.predict(X_test))\n",
        "\n",
        "knn_acc = accuracy_score(y_test, knn.predict(X_test))\n",
        "\n",
        "print(\"=== Test Accuracy ===\")\n",
        "print(f\"Decision Tree : {dt_acc:.4f}\")\n",
        "print(f\"Random Forest : {rf_acc:.4f}\")\n",
        "print(f\"Logistic Reg. : {lr_acc:.4f}\")\n",
        "\n",
        "print(f\"KNN : {knn_acc:.4f}\")"
      ]
    },
    {
      "cell_type": "code",
      "source": [],
      "metadata": {
        "id": "RGa2rI7uZmlI"
      },
      "execution_count": null,
      "outputs": []
    }
  ]
}